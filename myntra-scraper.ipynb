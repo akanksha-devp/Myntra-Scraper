{
 "cells": [
  {
   "cell_type": "code",
   "execution_count": 73,
   "metadata": {},
   "outputs": [],
   "source": [
    "from bs4 import BeautifulSoup\n",
    "from selenium import webdriver\n",
    "import requests\n",
    "import time\n",
    "import csv\n",
    "import json\n",
    "import os\n",
    "import pandas as pd\n",
    "# torexe = os.popen(r'C:\\Users\\stuti\\Tor Browser\\Browser\\TorBrowser\\Tor\\tor.exe')\n",
    "torexe = os.popen(r'\\usr\\local\\Cellar\\tor\\0.4.5.7\\bin\\tor.exe')\n",
    "PROXY = \"socks5://localhost:9050\" # IP:PORT or HOST:PORT\n",
    "# PROXY = \"socks5://51.195.201.46:9095\" # IP:PORT or HOST:PORT\n",
    "import random\n",
    "# proxies = ['socks5://localhost:9050']\n",
    "# PROXY = random.choice(proxies)\n",
    "options = webdriver.ChromeOptions()\n",
    "options.add_argument('--proxy-server=%s' % PROXY)\n",
    "driver = webdriver.Chrome(options=options)\n",
    "# driver = webdriver.Chrome();"
   ]
  },
  {
   "cell_type": "code",
   "execution_count": 74,
   "metadata": {},
   "outputs": [],
   "source": [
    "driver.get('https://www.flipkart.com/search?q=women+dresses&sid=clo%2Codx%2Cmaj%2Cjhy&as=on&as-show=on&otracker=AS_QueryStore_OrganicAutoSuggest_1_13_na_na_na&otracker1=AS_QueryStore_OrganicAutoSuggest_1_13_na_na_na&as-pos=1&as-type=HISTORY&suggestionId=women+dresses%7CWomen%27s+Dresses&requestId=8e3aafa5-71b0-4fbf-9a26-c6576a8e6be4')"
   ]
  },
  {
   "cell_type": "code",
   "execution_count": 65,
   "metadata": {},
   "outputs": [
    {
     "name": "stdout",
     "output_type": "stream",
     "text": [
      "the number of page = 1/2\n",
      "the number of page = 2/2\n"
     ]
    }
   ],
   "source": [
    "first_next_page = '//*[@id=\"container\"]/div/div[3]/div[1]/div[2]/div[12]/div/div/nav/a[11]/span'\n",
    "next_page = '//*[@id=\"container\"]/div/div[3]/div[1]/div[2]/div[12]/div/div/nav/a[12]/span'\n",
    "\n",
    "no_of_pages=driver.find_element_by_xpath('//*[@id=\"container\"]/div/div[3]/div[1]/div[2]/div[12]/div/div/span[1]')\n",
    "idx=(no_of_pages.text).find('of')\n",
    "no_of_pages = no_of_pages.text[idx+3:]\n",
    "no_of_pages = int(no_of_pages.replace(',',''))\n",
    "# no_of_pages = 2\n",
    "index = 0\n",
    "with open('./data_2.csv', 'a') as csvfile:\n",
    "    fieldnames = ['Index', 'Dress Details Link', 'Brand Name', 'Dress Title', 'Discounted Dress Price','Actual Dress Price', 'Discount Percentage','Dress Image URL','Image Filename']\n",
    "    writer = csv.DictWriter(csvfile, fieldnames=fieldnames)\n",
    "    writer.writeheader()\n",
    "    counter = 0\n",
    "    for p in range(no_of_pages):\n",
    "        counter+=1\n",
    "        print('the number of page = {0}/{1}'.format(p+1, no_of_pages))\n",
    "        dress_blocks = driver.find_elements_by_class_name('_1xHGtK._373qXS')\n",
    "        for block in dress_blocks:\n",
    "            index += 1 \n",
    "            dress_details_link = brand_name = dress_title = dress_sizes = dress_price_discounted = dress_price_actual = discount_percent = dress_image_url = None\n",
    "            try:\n",
    "                dress_details_link = block.find_element_by_tag_name('a').get_attribute('href')\n",
    "            except:\n",
    "                pass\n",
    "            try:\n",
    "                brand_name = block.find_element_by_class_name('_2WkVRV').text\n",
    "            except: \n",
    "                pass\n",
    "            try:\n",
    "                dress_title = block.find_element_by_class_name('IRpwTa').text\n",
    "            except:\n",
    "                pass\n",
    "            try:\n",
    "                dress_price_discounted = block.find_element_by_class_name('_30jeq3').text[1:].replace(',','')\n",
    "            except:\n",
    "                pass\n",
    "            try:\n",
    "                dress_price_actual = block.find_element_by_class_name('_3I9_wc').text[1:].replace(',','')\n",
    "            except:\n",
    "                pass\n",
    "            try:\n",
    "                discount_percent = block.find_element_by_class_name('_3Ay6Sb').text[:-4].replace('%','')\n",
    "            except:\n",
    "                pass\n",
    "            try:\n",
    "                dress_image_url = block.find_element_by_tag_name('img').get_attribute('src')\n",
    "            except:\n",
    "                pass\n",
    "            \n",
    "            writer.writerow(\n",
    "                                {\n",
    "                                    'Index': index,\n",
    "                                    'Dress Details Link': dress_details_link,\n",
    "                                    'Brand Name': brand_name,\n",
    "                                    'Dress Title': dress_title,\n",
    "                                    'Discounted Dress Price': dress_price_discounted,\n",
    "                                    'Actual Dress Price': dress_price_actual,\n",
    "                                    'Discount Percentage': discount_percent,\n",
    "                                    'Dress Image URL': dress_image_url,\n",
    "                                    'Image Filename': 'pic_'+str(index),\n",
    "                                }\n",
    "                               ) \n",
    "        if counter<=1:\n",
    "            driver.find_element_by_xpath(first_next_page).click()\n",
    "            time.sleep(10)\n",
    "        else:\n",
    "            driver.find_element_by_xpath(next_page).click()\n",
    "            driver.col\n",
    "            time.sleep(10)"
   ]
  },
  {
   "cell_type": "code",
   "execution_count": 25,
   "metadata": {},
   "outputs": [
    {
     "name": "stdout",
     "output_type": "stream",
     "text": [
      "division by zero\n",
      "Traceback (most recent call last):\n",
      "  File \"<ipython-input-25-9a827ef55640>\", line 3, in <module>\n",
      "    a = 1/0\n",
      "ZeroDivisionError: division by zero\n",
      "\n"
     ]
    }
   ],
   "source": [
    "import traceback\n",
    "try:\n",
    "    a = 1/0\n",
    "except Exception as e:\n",
    "    print(e)\n",
    "    b = traceback.format_exc()\n",
    "print(b)"
   ]
  }
 ],
 "metadata": {
  "kernelspec": {
   "display_name": "Python 3",
   "language": "python",
   "name": "python3"
  },
  "language_info": {
   "codemirror_mode": {
    "name": "ipython",
    "version": 3
   },
   "file_extension": ".py",
   "mimetype": "text/x-python",
   "name": "python",
   "nbconvert_exporter": "python",
   "pygments_lexer": "ipython3",
   "version": "3.8.5"
  }
 },
 "nbformat": 4,
 "nbformat_minor": 4
}
